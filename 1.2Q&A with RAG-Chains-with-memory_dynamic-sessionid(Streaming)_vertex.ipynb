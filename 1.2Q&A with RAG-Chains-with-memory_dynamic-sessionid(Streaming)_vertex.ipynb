{
 "cells": [
  {
   "cell_type": "code",
   "execution_count": 1,
   "metadata": {},
   "outputs": [],
   "source": [
    "import os\n",
    "from dotenv import load_dotenv\n",
    "load_dotenv()\n",
    "os.environ[\"LANGCHAIN_API_KEY\"]=os.environ.get('LANGCHAIN_API_KEY')\n",
    "os.environ[\"LANGSMITH_ENDPOINT\"]=os.environ.get('LANGSMITH_ENDPOINT')\n",
    "os.environ[\"LANGCHAIN_TRACING_V2\"]=os.environ.get('LANGCHAIN_TRACING_V2')\n",
    "os.environ[\"LANGCHAIN_PROJECT\"]=os.environ.get('LANGCHAIN_PROJECT')\n",
    "\n",
    "\n",
    "VERTEX_AI_PROJECT=os.environ.get('VERTEX_AI_PROJECT')\n",
    "VERTEX_AI_LOCATION=os.environ.get('VERTEX_AI_LOCATION')"
   ]
  },
  {
   "cell_type": "code",
   "execution_count": 2,
   "metadata": {},
   "outputs": [
    {
     "data": {
      "text/plain": [
       "'us-central1'"
      ]
     },
     "execution_count": 2,
     "metadata": {},
     "output_type": "execute_result"
    }
   ],
   "source": [
    "VERTEX_AI_LOCATION"
   ]
  },
  {
   "cell_type": "markdown",
   "metadata": {},
   "source": [
    "# Chains\n",
    "In a conversational RAG application, queries issued to the retriever should be informed by the context of the conversation. LangChain provides a **create_history_aware_retriever** constructor to simplify this. It constructs a chain that accepts keys input and **chat_history** as input, and has the same output schema as a retriever. **create_history_aware_retriever** requires as inputs:\n",
    "\n",
    "1. LLM\n",
    "2. Retriever\n",
    "3. Prompt\n",
    "   \n",
    "First we obtain these objects:"
   ]
  },
  {
   "cell_type": "markdown",
   "metadata": {},
   "source": [
    "# LLM"
   ]
  },
  {
   "cell_type": "code",
   "execution_count": null,
   "metadata": {},
   "outputs": [],
   "source": []
  },
  {
   "cell_type": "code",
   "execution_count": 3,
   "metadata": {},
   "outputs": [],
   "source": [
    "import vertexai\n"
   ]
  },
  {
   "cell_type": "code",
   "execution_count": 4,
   "metadata": {},
   "outputs": [],
   "source": [
    "vertexai.init(project=VERTEX_AI_PROJECT, location=VERTEX_AI_LOCATION)"
   ]
  },
  {
   "cell_type": "code",
   "execution_count": 21,
   "metadata": {},
   "outputs": [],
   "source": [
    "from langchain_google_vertexai import VertexAI\n",
    "llm = VertexAI(model_name=\"gemini-pro\")\n"
   ]
  },
  {
   "cell_type": "markdown",
   "metadata": {},
   "source": [
    "# Basic Retriever"
   ]
  },
  {
   "cell_type": "code",
   "execution_count": 7,
   "metadata": {},
   "outputs": [
    {
     "name": "stderr",
     "output_type": "stream",
     "text": [
      "USER_AGENT environment variable not set, consider setting it to identify your requests.\n"
     ]
    }
   ],
   "source": [
    "# Retriever\n",
    "\n",
    "from langchain.chains import create_retrieval_chain\n",
    "from langchain.chains.combine_documents import create_stuff_documents_chain\n",
    "from langchain_community.document_loaders import WebBaseLoader\n",
    "from langchain_core.output_parsers import StrOutputParser\n",
    "from langchain_core.prompts import ChatPromptTemplate\n",
    "from langchain_core.runnables import RunnablePassthrough\n",
    "from langchain_openai import OpenAIEmbeddings\n",
    "from langchain_text_splitters import RecursiveCharacterTextSplitter\n",
    "\n"
   ]
  },
  {
   "cell_type": "code",
   "execution_count": 8,
   "metadata": {},
   "outputs": [],
   "source": [
    "from llama_index.indices.managed.llama_cloud import LlamaCloudIndex"
   ]
  },
  {
   "cell_type": "code",
   "execution_count": 9,
   "metadata": {},
   "outputs": [],
   "source": [
    "index = LlamaCloudIndex(\n",
    "  name=\"Schneider_test\", \n",
    "  project_name=\"Default\",\n",
    "  organization_id=\"05d118aa-cdd9-4de1-8cae-58356a536f4c\",\n",
    "  api_key=\"llx-wRERJV3azrzTFlqCjp2KkSRCm3C2VOrHjNWI30sggOTCqiDC\"\n",
    ")"
   ]
  },
  {
   "cell_type": "code",
   "execution_count": 10,
   "metadata": {},
   "outputs": [],
   "source": [
    "from langchain_community.retrievers.llama_index import LlamaIndexRetriever\n",
    "retriever = LlamaIndexRetriever(index=index, query_kwargs={})"
   ]
  },
  {
   "cell_type": "code",
   "execution_count": 11,
   "metadata": {},
   "outputs": [],
   "source": [
    "query_engine = index.as_query_engine(query_kwargs={})"
   ]
  },
  {
   "cell_type": "code",
   "execution_count": 12,
   "metadata": {},
   "outputs": [
    {
     "data": {
      "text/plain": [
       "<llama_index.core.query_engine.retriever_query_engine.RetrieverQueryEngine at 0x14ff1340c20>"
      ]
     },
     "execution_count": 12,
     "metadata": {},
     "output_type": "execute_result"
    }
   ],
   "source": [
    "query_engine"
   ]
  },
  {
   "cell_type": "code",
   "execution_count": 13,
   "metadata": {},
   "outputs": [],
   "source": [
    "response = query_engine.query(\"What do Discharge lamps depend on?\")\n"
   ]
  },
  {
   "cell_type": "code",
   "execution_count": 14,
   "metadata": {},
   "outputs": [],
   "source": [
    "response = query_engine.query(\"What is Internal MV distribution?\")\n"
   ]
  },
  {
   "cell_type": "code",
   "execution_count": 15,
   "metadata": {},
   "outputs": [
    {
     "name": "stdout",
     "output_type": "stream",
     "text": [
      "Internal MV distribution refers to the distribution of medium voltage electricity within a facility or building.\n"
     ]
    }
   ],
   "source": [
    "print(response)\n"
   ]
  },
  {
   "cell_type": "markdown",
   "metadata": {},
   "source": [
    "# Prompt\n",
    "\n",
    "### First create a contextualized system prompt\n",
    "\n",
    "We'll use a prompt that includes a MessagesPlaceholder variable under the name \"chat_history\". \n",
    "\n",
    "This allows us to pass in a list of Messages to the prompt using the \"chat_history\" input key, \n",
    "\n",
    "and these messages will be inserted after the system message and before the human message containing the latest question.\n",
    "\n",
    "<span style=\"color:red\">\n",
    "The purpose of this prerequisite chain is to reformulate the question if required in the context of the chat history.\n",
    "\n",
    "If it's not needed. The question is returned as it is.<span>\n",
    "\n"
   ]
  },
  {
   "cell_type": "markdown",
   "metadata": {},
   "source": [
    "It takes in 3 things:\n",
    "1. The system Prompt for question Reformulation\n",
    "2. Chat History\n",
    "3. Original Question"
   ]
  },
  {
   "cell_type": "code",
   "execution_count": 16,
   "metadata": {},
   "outputs": [],
   "source": [
    "# Prompt\n",
    "\n",
    "from langchain.chains import create_history_aware_retriever\n",
    "from langchain_core.prompts import MessagesPlaceholder\n",
    "\n",
    "contextualize_q_system_prompt = (\n",
    "    \"Given a chat history and the latest user question \"\n",
    "    \"which might reference context in the chat history, \"\n",
    "    \"formulate a standalone question which can be understood \"\n",
    "    \"without the chat history. Do NOT answer the question, \"\n",
    "    \"just reformulate it if needed and otherwise return it as is.\"\n",
    ")\n",
    "\n",
    "contextualize_q_prompt = ChatPromptTemplate.from_messages(\n",
    "    [\n",
    "        (\"system\", contextualize_q_system_prompt),\n",
    "        MessagesPlaceholder(\"chat_history\"),\n",
    "        (\"human\", \"{input}\"),\n",
    "    ]\n",
    ")"
   ]
  },
  {
   "cell_type": "markdown",
   "metadata": {},
   "source": [
    "# 1. Create History Aware Retriever Chain\n",
    "\n",
    "We can then instantiate the history-aware retriever:\n",
    "\n",
    "This chain prepends a rephrasing of the input query to our retriever, so that the retrieval incorporates the context of the conversation.\n",
    "\n"
   ]
  },
  {
   "cell_type": "code",
   "execution_count": 17,
   "metadata": {},
   "outputs": [],
   "source": [
    "from langchain.schema import Document\n",
    "from langchain_core.retrievers import BaseRetriever\n",
    "from pydantic import Field\n",
    "from typing import Any, Dict, List\n",
    "\n",
    "class LlamaQueryEngineRetriever(BaseRetriever):\n",
    "    \"\"\"\n",
    "    A LangChain retriever that wraps a LlamaIndex query engine.\n",
    "    \"\"\"\n",
    "\n",
    "    query_engine: Any = None  # The LlamaIndex query engine\n",
    "\n",
    "    def _get_relevant_documents(self, query: str, *, run_manager=None) -> List[Document]:\n",
    "        # Run the query through the LlamaIndex query engine\n",
    "        response = self.query_engine.query(query)\n",
    "\n",
    "        # Convert the LlamaIndex response into LangChain Documents\n",
    "        docs = []\n",
    "        for source_node in response.source_nodes:\n",
    "            metadata = source_node.metadata or {}\n",
    "            docs.append(Document(page_content=source_node.get_content(), metadata=metadata))\n",
    "\n",
    "        return docs\n"
   ]
  },
  {
   "cell_type": "code",
   "execution_count": 18,
   "metadata": {},
   "outputs": [],
   "source": [
    "retriever = LlamaQueryEngineRetriever(query_engine=query_engine)\n"
   ]
  },
  {
   "cell_type": "code",
   "execution_count": 19,
   "metadata": {},
   "outputs": [
    {
     "data": {
      "text/plain": [
       "LlamaQueryEngineRetriever(query_engine=<llama_index.core.query_engine.retriever_query_engine.RetrieverQueryEngine object at 0x0000014FF1340C20>)"
      ]
     },
     "execution_count": 19,
     "metadata": {},
     "output_type": "execute_result"
    }
   ],
   "source": [
    "retriever"
   ]
  },
  {
   "cell_type": "code",
   "execution_count": 22,
   "metadata": {},
   "outputs": [],
   "source": [
    "history_aware_retriever_chain = create_history_aware_retriever(\n",
    "    llm, retriever, contextualize_q_prompt\n",
    ")"
   ]
  },
  {
   "cell_type": "markdown",
   "metadata": {},
   "source": [
    "# 2. Build QA Chain\n",
    "\n",
    "As in the RAG tutorial, we will use **create_stuff_documents_chain** to generate a **question_answer_chain**, with input keys \n",
    "\n",
    "1. **context**\n",
    "2. **chat_history**\n",
    "3. **input**\n",
    "\n",
    "It accepts the retrieved context alongside the conversation history and query to generate an answer.\n",
    "\n"
   ]
  },
  {
   "cell_type": "code",
   "execution_count": 23,
   "metadata": {},
   "outputs": [],
   "source": [
    "system_prompt = (\n",
    "    \"You are an assistant for question-answering tasks. \"\n",
    "    \"Use the following pieces of retrieved context to answer \"\n",
    "    \"the question. If you don't know the answer, say that you \"\n",
    "    \"don't know. Use three sentences maximum and keep the \"\n",
    "    \"answer concise.\"\n",
    "    \"\\n\\n\"\n",
    "    \"{context}\"\n",
    ")\n",
    "qa_prompt = ChatPromptTemplate.from_messages(\n",
    "    [\n",
    "        (\"system\", system_prompt),\n",
    "        MessagesPlaceholder(\"chat_history\"),\n",
    "        (\"human\", \"{input}\"),\n",
    "    ]\n",
    ")\n",
    "question_answer_chain = create_stuff_documents_chain(llm, qa_prompt)"
   ]
  },
  {
   "cell_type": "markdown",
   "metadata": {},
   "source": [
    "# 3. Build RAG Chain\n",
    "\n",
    "\n",
    "We build our final **rag_chain** with **create_retrieval_chain**. \n",
    "\n",
    "This chain applies the \n",
    "**history_aware_retriever_chain** and **question_answer_chain** (created above)\n",
    "\n",
    "in sequence, retaining intermediate outputs such as the retrieved context for convenience. It has input keys input and chat_history, and includes input, chat_history, context, and answer in its output.\n"
   ]
  },
  {
   "cell_type": "code",
   "execution_count": 24,
   "metadata": {},
   "outputs": [],
   "source": [
    "rag_chain = create_retrieval_chain(history_aware_retriever_chain, question_answer_chain)"
   ]
  },
  {
   "cell_type": "markdown",
   "metadata": {},
   "source": [
    "# Adding chat history\n",
    "To manage the chat history, we will need:\n",
    "\n",
    "An object for storing the chat history;\n",
    "An object that wraps our chain and manages updates to the chat history.\n",
    "For these we will use **BaseChatMessageHistory** and **RunnableWithMessageHistory**. The latter is a wrapper for an LCEL chain and a BaseChatMessageHistory that handles injecting chat history into inputs and updating it after each invocation."
   ]
  },
  {
   "cell_type": "code",
   "execution_count": 25,
   "metadata": {},
   "outputs": [],
   "source": [
    "from langchain_community.chat_message_histories import ChatMessageHistory\n",
    "from langchain_core.chat_history import BaseChatMessageHistory\n",
    "from langchain_core.runnables.history import RunnableWithMessageHistory\n",
    "\n",
    "store = {}\n",
    "\n",
    "\n",
    "def get_session_history(session_id: str) -> BaseChatMessageHistory:\n",
    "    if session_id not in store:\n",
    "        store[session_id] = ChatMessageHistory()\n",
    "    return store[session_id]\n"
   ]
  },
  {
   "cell_type": "code",
   "execution_count": 26,
   "metadata": {},
   "outputs": [],
   "source": [
    "# Function to generate a unique session ID\n",
    "import uuid\n",
    "\n",
    "def generate_session_id() -> str:\n",
    "    return str(uuid.uuid4())"
   ]
  },
  {
   "cell_type": "markdown",
   "metadata": {},
   "source": [
    "# 3. Build Conversational RAG Chain\n",
    "\n",
    "\n",
    "Finally we build our final **conversational_rag_chain** with \n",
    "1. rag_chain \n",
    "2. get_session_history\n",
    "3. input_messages_key=\"input\"\n",
    "4. history_messages_key=\"chat_history\"\n",
    "5. output_messages_key=\"answer\"\n"
   ]
  },
  {
   "cell_type": "code",
   "execution_count": 27,
   "metadata": {},
   "outputs": [],
   "source": [
    "conversational_rag_chain = RunnableWithMessageHistory(\n",
    "    rag_chain,\n",
    "    get_session_history,\n",
    "    input_messages_key=\"input\",\n",
    "    history_messages_key=\"chat_history\",\n",
    "    output_messages_key=\"answer\",\n",
    ")"
   ]
  },
  {
   "cell_type": "code",
   "execution_count": 28,
   "metadata": {},
   "outputs": [],
   "source": [
    "# Generating a dynamic session ID\n",
    "session_id_1 = generate_session_id()"
   ]
  },
  {
   "cell_type": "code",
   "execution_count": 29,
   "metadata": {},
   "outputs": [
    {
     "data": {
      "text/plain": [
       "'678181cd-0531-4f5b-b7e8-4b69aaac27d3'"
      ]
     },
     "execution_count": 29,
     "metadata": {},
     "output_type": "execute_result"
    }
   ],
   "source": [
    "session_id_1"
   ]
  },
  {
   "cell_type": "code",
   "execution_count": 31,
   "metadata": {},
   "outputs": [
    {
     "name": "stdout",
     "output_type": "stream",
     "text": [
      "{'input': 'what do Discharge lamps depend on?', 'chat_history': [], 'context': [Document(metadata={'file_size': 1031804, 'last_modified_at': '2025-02-08T12:34:21', 'file_path': 'Schneider_2018_small.pdf', 'file_name': 'Schneider_2018_small.pdf', 'external_file_id': 'Schneider_2018_small.pdf', 'file_id': 'e95aa0e4-a724-4fb7-9657-836519ab515d', 'pipeline_file_id': '6e8f09cb-3bdb-4312-aac2-9536435be726', 'pipeline_id': 'd42e94f1-972d-4b7d-99ec-5af1d540c623', 'page_label': 1, 'start_page_index': 0, 'start_page_label': 1, 'end_page_index': 0, 'end_page_label': 1, 'document_id': '1a37c32a2d258cae41793ceb72ed2d2e95d4332d81f73d6fbc', 'start_char_idx': 0, 'end_char_idx': 2485}, page_content='# A - General rules of electrical installation design\\n\\n# 3 Installed power loads - Characteristics\\n\\n|Type of lamp|Lamp power (W)|Current at 230 V (A)|\\n|---|---|---|\\n|Separated ballast lamp|10|0.080|\\n| |18|0.110|\\n| |26|0.150|\\n|Integrated ballast lamp|8|0.075|\\n| |11|0.095|\\n| |16|0.125|\\n| |21|0.170|\\n\\nFig. A7 Current demands and power consumption of compact fluorescent lamps (at 230 V-50 Hz)\\n\\n# 3.4 Discharge lamps\\n\\nSee also chapter N §4 \"Lighting circuits\". The power in watts indicated on the tube of a discharge lamp does not include the power dissipated in the ballast. Fig. A8 gives the current taken by a complete unit, including all associated ancillary equipment. These lamps depend on the luminous electrical discharge through a gas or vapour of a metallic compound, which is contained in a hermetically-sealed transparent envelope at a pre-determined pressure. These lamps have a long start-up time, during which the current Ia is greater than the nominal current In. Power and current demands are given for different types of lamp (typical average values which may differ slightly from one manufacturer to another).\\n\\n|Type of lamp|Power demand (W)|Current In(A)|PF not corrected|PF corrected|x In|Starting Period (mins)|Luminous efficiency (lumens per watt)|Average timelife of lamp (h)|\\n|---|---|---|---|---|---|---|---|---|\\n|High-pressure sodium vapour lamps|50|60|0.76|0.3|1.4 to 1.6|4 to 6|80 to 120|9000|\\n| |70|80|1|0.45| | | |b Outdoor spaces|\\n| |100|115|1.2|0.65| | | |b Public lighting|\\n| |150|168|1.8|0.85| | | | |\\n| |250|274|3|1.4| | | | |\\n| |400|431|4.4|2.2| | | | |\\n| |1000|1055|10.45|4.9| | | | |\\n|Low-pressure sodium vapour lamps|26|34.5|0.45|0.17|1.1 to 1.3|7 to 15|100 to 200|8000 to|\\n| |36|46.5| |0.22| | | |12000|\\n| |66|80.5| |0.39| | | |b Security lighting, railway platforms|\\n| |91|105.5| |0.49| | | |b Platform, storage areas|\\n| |131|154| |0.69| | | | |\\n|Mercury vapour + metal halide (also called metal-iodide)|70|80.5|1|0.40|1.7|3 to 5|70 to 90|6000|\\n| |150|172|1.80|0.88| | | |6000|\\n| |250|276|2.10|1.35| | | |6000|\\n| |400|425|3.40|2.15| | | |6000|\\n| |1000|1046|8.25|5.30| | | |6000|\\n| |2000|2092|2052|16.5|8.60|10.50|6| |\\n|Mercury vapour + fluorescent substance (fluorescent bulb)|50|57|0.6|0.30|1.7 to 2|3 to 6|40 to 60|8000 to|\\n| |80|90|0.8|0.45| | | |12000|\\n| |125|141|1.15|0.70| | | | |\\n| |250|268|2.15|1.35| | | |b Outdoor lighting|\\n| |400|421|3.25|2.15| | | |b Low light output [a]|\\n| |700|731|5.4|3.85| | | | |\\n| |1000|1046|8.25|5.30| | | | |\\n|'), Document(metadata={'file_size': 1031804, 'last_modified_at': '2025-02-08T12:34:21', 'file_path': 'Schneider_2018_small.pdf', 'file_name': 'Schneider_2018_small.pdf', 'external_file_id': 'Schneider_2018_small.pdf', 'file_id': 'e95aa0e4-a724-4fb7-9657-836519ab515d', 'pipeline_file_id': '6e8f09cb-3bdb-4312-aac2-9536435be726', 'pipeline_id': 'd42e94f1-972d-4b7d-99ec-5af1d540c623', 'page_label': 1, 'start_page_index': 0, 'start_page_label': 1, 'end_page_index': 0, 'end_page_label': 1, 'document_id': '1a37c32a2d258cae41793ceb72ed2d2e95d4332d81f73d6fbc', 'start_char_idx': 2111, 'end_char_idx': 3135}, page_content='|6000|\\n| |2000|2092|2052|16.5|8.60|10.50|6| |\\n|Mercury vapour + fluorescent substance (fluorescent bulb)|50|57|0.6|0.30|1.7 to 2|3 to 6|40 to 60|8000 to|\\n| |80|90|0.8|0.45| | | |12000|\\n| |125|141|1.15|0.70| | | | |\\n| |250|268|2.15|1.35| | | |b Outdoor lighting|\\n| |400|421|3.25|2.15| | | |b Low light output [a]|\\n| |700|731|5.4|3.85| | | | |\\n| |1000|1046|8.25|5.30| | | | |\\n| |2000|2140|2080|15|11|6.1| | |\\n\\n[a] Replaced by sodium vapour lamps.\\n\\nNote: these lamps are sensitive to voltage dips. They extinguish if the voltage falls to less than 50 % of their nominal voltage, and will not re-ignite before cooling for approximately 4 minutes.\\n\\nNote: Sodium vapour low-pressure lamps have a light-output efficiency which is superior to that of all other sources. However, use of these lamps is restricted by the fact that the yellow-orange colour emitted makes colour recognition practically impossible.\\n\\nFig. A8 Current demands of discharge lamps\\n\\nElectrical installation guide 2018 © Schneider Electric - all rights reserved'), Document(metadata={'file_size': 1031804, 'last_modified_at': '2025-02-08T12:34:21', 'file_path': 'Schneider_2018_small.pdf', 'file_name': 'Schneider_2018_small.pdf', 'external_file_id': 'Schneider_2018_small.pdf', 'file_id': 'e95aa0e4-a724-4fb7-9657-836519ab515d', 'pipeline_file_id': '6e8f09cb-3bdb-4312-aac2-9536435be726', 'pipeline_id': 'd42e94f1-972d-4b7d-99ec-5af1d540c623', 'page_label': 2, 'start_page_index': 1, 'start_page_label': 2, 'end_page_index': 1, 'end_page_label': 2, 'document_id': '1a37c32a2d258cae41793ceb72ed2d2e95d4332d81f73d6fbc', 'start_char_idx': 6282, 'end_char_idx': 8737}, page_content='# B - Connection to the MV utility distribution network\\n\\n# 1 Power supply at medium voltage\\n\\nConsidering the previous requirements and basic usages, four typical architectures can be defined for an electrical installation connected to a MV utility distribution network:\\n\\n- Fig. B1: single MV/LV power transformer with metering at LV level\\n- Fig. B2: single MV/LV power transformer with metering at MV level\\n- Fig. B3: several MV/LV transformers, all located in the main substation\\n- Fig. B4: several secondary substations supplied by an internal MV distribution. Most of MV/LV transformers are located in secondary substations. Some of them when required are installed in the main substation\\n\\nThe functional and safety requirements defined above are detailed in this chapter, in the following sub-clauses:\\n\\n- b 1.2 to 1.4: Voltages and currents according to IEC Standards, different types of MV power supply, practical issues concerning MV distribution networks\\n- b 2.1 to 2.2: Procedure for the establishment of a new substation\\n- b 3.1 to 3.4: Protection against electrical hazards, faults and mis-operations\\n- b 4.1 to 4.2: Consumer substation with LV metering\\n- b 5.1 to 5.2: Consumer substation with MV metering\\n- b 6.1 to 6.4: Choose and use MV equipment and MV/LV transformers\\n- b 7.1 to 7.3: Substation including generators and parallel operation of transformers\\n- b 8.1 to 8.3: Types and constitution of MV/LV distribution substations.\\n\\nThe methodology of selection of an architecture for a MV/LV electrical installation is detailed in chapter D.\\n\\n# Figures\\n\\n# Fig. B1 Installation including a single MV/LV power transformer with metering at LV level\\n\\n# Fig. B2 Installation including a single MV/LV power transformer with metering at MV level\\n\\n# Fig. B3 Installation including several MV/LV transformers, all located in the main substation\\n\\n# Fig. B4 Installation including several secondary substations supplied by an internal MV distribution\\n\\n|Function 1|Function 3|Function 1|Function 5|Function 2|Function 3|Function 3|Function 3|\\n|---|---|---|---|---|---|---|---|\\n|Connection to the MV utility distribution network|Protection of MV/LV transformer|Connection to the MV utility distribution network|Metering at MV Level|General protection of the installation|Protection of MV/LV transformer 1|Protection of MV/LV transformer 2|Protection of MV/LV transformer 3|\\n\\n# Electrical installation guide 2018\\n\\n© Schneider Electric - all rights reserved'), Document(metadata={'file_size': 1031804, 'last_modified_at': '2025-02-08T12:34:21', 'file_path': 'Schneider_2018_small.pdf', 'file_name': 'Schneider_2018_small.pdf', 'external_file_id': 'Schneider_2018_small.pdf', 'file_id': 'e95aa0e4-a724-4fb7-9657-836519ab515d', 'pipeline_file_id': '6e8f09cb-3bdb-4312-aac2-9536435be726', 'pipeline_id': 'd42e94f1-972d-4b7d-99ec-5af1d540c623', 'page_label': 4, 'start_page_index': 3, 'start_page_label': 4, 'end_page_index': 3, 'end_page_label': 4, 'document_id': '1a37c32a2d258cae41793ceb72ed2d2e95d4332d81f73d6fbc', 'start_char_idx': 16030, 'end_char_idx': 20237}, page_content='# B - Connection to the MV utility distribution network\\n\\n# 1 Power supply at medium voltage\\n\\n# 1.4 Some practical issues concerning MV distribution networks\\n\\n# 1.4.1 Overhead networks\\n\\nWeather conditions such as wind may bring overhead wires into contact and cause phase to phase short-circuits. Over voltages due to lightning strokes may generate flash-over across ceramic or glass insulators and cause phase to earth faults. Temporary contacts of vegetation such as trees with live overhead conductors may also generate phase to earth faults.\\n\\nMost of these faults are temporary. They disappear naturally with the interruption of the voltage. This means that the supply can be restored after a short delay following the tripping. This delay is usually named \"dead time\".\\n\\nHence the sequence of fault clearing and voltage restoration in an overhead network is as follows:\\n\\n- Fault detection by phase to phase or phase to earth protection\\n- Circuit breaker opening, the faulty overhead line is de-energized\\n- Dead time\\n- Circuit breaker reclosing. Following the reclosing two situations are possible:\\n- The fault has been cleared by the interruption of the voltage, the reclosing is successful\\n- The line is still faulty, a new tripping is initiated followed again by a reclosing sequence.\\n- Several sequences of tripping-reclosing may be activated depending on the rules of operation of the network adopted by the utility\\n- If after the execution of the preselected number of reclosing sequences the fault is still present, the circuit breaker is automatically locked and consequently the faulty part of the network remains out of service until the fault is localized and eliminated.\\n\\nAs such, it is possible to improve significantly the service continuity of overhead networks by using automatic reclosing facilities. Generally a reclosing circuit breaker is associated to each overhead line.\\n\\nThe use of centralized remote control and monitoring based on SCADA (Supervisory Control And Data Acquisition) systems and recent developments in digital communication technology is increasingly common in countries where the complexity associated with highly interconnected networks justifies the investment required.\\n\\n# 1.4.2 Underground networks\\n\\nCable Faults on underground MV cables may have several causes such as:\\n\\n- Poor quality of cable laying, absence of mechanical protection\\n- Bad quality of cable terminations confection\\n- Damages caused by excavators or tools such as pneumatic drills\\n- Over voltages generated by lightning strokes occurring on overhead line connected to underground cables. The over voltages can be amplified at the levels of the junctions between overhead lines and underground cables causing the destruction of the cable terminations. Lightning arresters are often installed at these locations to limit the risks of damages.\\n\\nThe experience shows that the rate of fault occurring on underground cables is lower than the one registered for overhead lines. But faults on underground cables are invariably permanent and take longer time to locate and repair.\\n\\nA loop architecture (see Fig. B10) correctly instrumented with fault detectors and motorized load break switches allow within a short period of time to identify a faulty cable, to disconnect it and to restore the supply to the whole substations included in the loop.\\n\\nThese procedures of faults detection, cables disconnection and supply restoration can be automatically performed in less than one minute by dedicated functions commonly integrated in remote control and monitoring systems of MV networks.\\n\\n# 1.4.3 Remote control and monitoring for MV networks (see Fig. B7)\\n\\nRemote control and monitoring of MV feeders make it possible to reduce loss of supply resulting from cable faults by supporting fast and effective loop reconfiguration. This facility relies on motorized switches associated with fault detectors on a number of substations in the loop and controlled by remote control units. All stations containing this equipment can have their supply restored remotely, whereas other stations will require additional manual operations.\\n\\nElectrical installation guide 2018 © Schneider Electric - all rights reserved'), Document(metadata={'file_size': 1031804, 'last_modified_at': '2025-02-08T12:34:21', 'file_path': 'Schneider_2018_small.pdf', 'file_name': 'Schneider_2018_small.pdf', 'external_file_id': 'Schneider_2018_small.pdf', 'file_id': 'e95aa0e4-a724-4fb7-9657-836519ab515d', 'pipeline_file_id': '6e8f09cb-3bdb-4312-aac2-9536435be726', 'pipeline_id': 'd42e94f1-972d-4b7d-99ec-5af1d540c623', 'page_label': 3, 'start_page_index': 2, 'start_page_label': 3, 'end_page_index': 2, 'end_page_label': 3, 'document_id': '1a37c32a2d258cae41793ceb72ed2d2e95d4332d81f73d6fbc', 'start_char_idx': 11204, 'end_char_idx': 13611}, page_content='# B - Connection to the MV utility distribution network\\n\\n# 1 Power supply at medium voltage\\n\\n|Supplier|Consumer|General protection and transformer protection|\\n|---|---|---|\\n|A|Single-line service|are merged: Circuit breaker or Load break switch + fuses|\\n|Installation including a single MV/LV power transformer with metering at LV level|Installation including a single MV/LV power transformer with metering at LV level|Installation including a single MV/LV power transformer with metering at LV level|\\n|B|Single-line service (equipped for extension to form a ring main)|are merged: Circuit breaker or Load break switch + fuses|\\n|Installation including a single MV/LV power transformer with metering at MV|Installation including a single MV/LV power transformer with metering at MV|Installation including a single MV/LV power transformer with metering at MV|\\n|Transformer protection: Circuit breaker or Load break switch + fuses|Transformer protection: Circuit breaker or Load break switch + fuses|Transformer protection: Circuit breaker or Load break switch + fuses|\\n|D|Parallel feeders service|General protection: Circuit breaker|\\n|Transformer protection: Circuit breaker or Load break switch + fuses|Transformer protection: Circuit breaker or Load break switch + fuses|Transformer protection: Circuit breaker or Load break switch + fuses|\\n|Installation including several MV/LV transformers, all located in the main substation|Installation including several MV/LV transformers, all located in the main substation|Installation including several MV/LV transformers, all located in the main substation|\\n|Feeder protection: Circuit breaker|Feeder protection: Circuit breaker|Feeder protection: Circuit breaker|\\n|C|Ring-main service|General protection: Circuit breaker|\\n|Feeder protection: Circuit breaker|Feeder protection: Circuit breaker|Feeder protection: Circuit breaker|\\n|Installation including several secondary substations supplied by an internal MV distribution|Installation including several secondary substations supplied by an internal MV distribution|Installation including several secondary substations supplied by an internal MV distribution|\\n\\nFig. B6 A: Single line service. B: Single line service with provision for extension to ring main or parallel feeder service. C: Ring main service. D: parallel feeder service\\n\\nElectrical installation guide 2018\\n\\n© Schneider Electric - all rights reserved')], 'answer': 'Discharge lamps depend on the luminous electrical discharge through a gas or vapor of a metallic compound.'}\n"
     ]
    }
   ],
   "source": [
    "# Run the coroutine and get the response\n",
    "response = conversational_rag_chain.invoke(\n",
    "    {\"input\": \"what do Discharge lamps depend on?\"},\n",
    "    config={\n",
    "        \"configurable\": {\"session_id\": session_id_1}\n",
    "    }\n",
    ")\n",
    "\n",
    "# Print the response\n",
    "print(response)"
   ]
  },
  {
   "cell_type": "code",
   "execution_count": 32,
   "metadata": {},
   "outputs": [
    {
     "name": "stdout",
     "output_type": "stream",
     "text": [
      "{'input': 'what is Internal MV distribution?', 'chat_history': [HumanMessage(content='what do Discharge lamps depend on?', additional_kwargs={}, response_metadata={}), AIMessage(content='Discharge lamps depend on the luminous electrical discharge through a gas or vapor of a metallic compound.', additional_kwargs={}, response_metadata={})], 'context': [Document(metadata={'file_size': 1031804, 'last_modified_at': '2025-02-08T12:34:21', 'file_path': 'Schneider_2018_small.pdf', 'file_name': 'Schneider_2018_small.pdf', 'external_file_id': 'Schneider_2018_small.pdf', 'file_id': 'e95aa0e4-a724-4fb7-9657-836519ab515d', 'pipeline_file_id': '6e8f09cb-3bdb-4312-aac2-9536435be726', 'pipeline_id': 'd42e94f1-972d-4b7d-99ec-5af1d540c623', 'page_label': 3, 'start_page_index': 2, 'start_page_label': 3, 'end_page_index': 2, 'end_page_label': 3, 'document_id': '1a37c32a2d258cae41793ceb72ed2d2e95d4332d81f73d6fbc', 'start_char_idx': 11204, 'end_char_idx': 13611}, page_content='# B - Connection to the MV utility distribution network\\n\\n# 1 Power supply at medium voltage\\n\\n|Supplier|Consumer|General protection and transformer protection|\\n|---|---|---|\\n|A|Single-line service|are merged: Circuit breaker or Load break switch + fuses|\\n|Installation including a single MV/LV power transformer with metering at LV level|Installation including a single MV/LV power transformer with metering at LV level|Installation including a single MV/LV power transformer with metering at LV level|\\n|B|Single-line service (equipped for extension to form a ring main)|are merged: Circuit breaker or Load break switch + fuses|\\n|Installation including a single MV/LV power transformer with metering at MV|Installation including a single MV/LV power transformer with metering at MV|Installation including a single MV/LV power transformer with metering at MV|\\n|Transformer protection: Circuit breaker or Load break switch + fuses|Transformer protection: Circuit breaker or Load break switch + fuses|Transformer protection: Circuit breaker or Load break switch + fuses|\\n|D|Parallel feeders service|General protection: Circuit breaker|\\n|Transformer protection: Circuit breaker or Load break switch + fuses|Transformer protection: Circuit breaker or Load break switch + fuses|Transformer protection: Circuit breaker or Load break switch + fuses|\\n|Installation including several MV/LV transformers, all located in the main substation|Installation including several MV/LV transformers, all located in the main substation|Installation including several MV/LV transformers, all located in the main substation|\\n|Feeder protection: Circuit breaker|Feeder protection: Circuit breaker|Feeder protection: Circuit breaker|\\n|C|Ring-main service|General protection: Circuit breaker|\\n|Feeder protection: Circuit breaker|Feeder protection: Circuit breaker|Feeder protection: Circuit breaker|\\n|Installation including several secondary substations supplied by an internal MV distribution|Installation including several secondary substations supplied by an internal MV distribution|Installation including several secondary substations supplied by an internal MV distribution|\\n\\nFig. B6 A: Single line service. B: Single line service with provision for extension to ring main or parallel feeder service. C: Ring main service. D: parallel feeder service\\n\\nElectrical installation guide 2018\\n\\n© Schneider Electric - all rights reserved'), Document(metadata={'file_size': 1031804, 'last_modified_at': '2025-02-08T12:34:21', 'file_path': 'Schneider_2018_small.pdf', 'file_name': 'Schneider_2018_small.pdf', 'external_file_id': 'Schneider_2018_small.pdf', 'file_id': 'e95aa0e4-a724-4fb7-9657-836519ab515d', 'pipeline_file_id': '6e8f09cb-3bdb-4312-aac2-9536435be726', 'pipeline_id': 'd42e94f1-972d-4b7d-99ec-5af1d540c623', 'page_label': 2, 'start_page_index': 1, 'start_page_label': 2, 'end_page_index': 1, 'end_page_label': 2, 'document_id': '1a37c32a2d258cae41793ceb72ed2d2e95d4332d81f73d6fbc', 'start_char_idx': 6282, 'end_char_idx': 8737}, page_content='# B - Connection to the MV utility distribution network\\n\\n# 1 Power supply at medium voltage\\n\\nConsidering the previous requirements and basic usages, four typical architectures can be defined for an electrical installation connected to a MV utility distribution network:\\n\\n- Fig. B1: single MV/LV power transformer with metering at LV level\\n- Fig. B2: single MV/LV power transformer with metering at MV level\\n- Fig. B3: several MV/LV transformers, all located in the main substation\\n- Fig. B4: several secondary substations supplied by an internal MV distribution. Most of MV/LV transformers are located in secondary substations. Some of them when required are installed in the main substation\\n\\nThe functional and safety requirements defined above are detailed in this chapter, in the following sub-clauses:\\n\\n- b 1.2 to 1.4: Voltages and currents according to IEC Standards, different types of MV power supply, practical issues concerning MV distribution networks\\n- b 2.1 to 2.2: Procedure for the establishment of a new substation\\n- b 3.1 to 3.4: Protection against electrical hazards, faults and mis-operations\\n- b 4.1 to 4.2: Consumer substation with LV metering\\n- b 5.1 to 5.2: Consumer substation with MV metering\\n- b 6.1 to 6.4: Choose and use MV equipment and MV/LV transformers\\n- b 7.1 to 7.3: Substation including generators and parallel operation of transformers\\n- b 8.1 to 8.3: Types and constitution of MV/LV distribution substations.\\n\\nThe methodology of selection of an architecture for a MV/LV electrical installation is detailed in chapter D.\\n\\n# Figures\\n\\n# Fig. B1 Installation including a single MV/LV power transformer with metering at LV level\\n\\n# Fig. B2 Installation including a single MV/LV power transformer with metering at MV level\\n\\n# Fig. B3 Installation including several MV/LV transformers, all located in the main substation\\n\\n# Fig. B4 Installation including several secondary substations supplied by an internal MV distribution\\n\\n|Function 1|Function 3|Function 1|Function 5|Function 2|Function 3|Function 3|Function 3|\\n|---|---|---|---|---|---|---|---|\\n|Connection to the MV utility distribution network|Protection of MV/LV transformer|Connection to the MV utility distribution network|Metering at MV Level|General protection of the installation|Protection of MV/LV transformer 1|Protection of MV/LV transformer 2|Protection of MV/LV transformer 3|\\n\\n# Electrical installation guide 2018\\n\\n© Schneider Electric - all rights reserved'), Document(metadata={'file_size': 1031804, 'last_modified_at': '2025-02-08T12:34:21', 'file_path': 'Schneider_2018_small.pdf', 'file_name': 'Schneider_2018_small.pdf', 'external_file_id': 'Schneider_2018_small.pdf', 'file_id': 'e95aa0e4-a724-4fb7-9657-836519ab515d', 'pipeline_file_id': '6e8f09cb-3bdb-4312-aac2-9536435be726', 'pipeline_id': 'd42e94f1-972d-4b7d-99ec-5af1d540c623', 'page_label': 4, 'start_page_index': 3, 'start_page_label': 4, 'end_page_index': 3, 'end_page_label': 4, 'document_id': '1a37c32a2d258cae41793ceb72ed2d2e95d4332d81f73d6fbc', 'start_char_idx': 16030, 'end_char_idx': 20237}, page_content='# B - Connection to the MV utility distribution network\\n\\n# 1 Power supply at medium voltage\\n\\n# 1.4 Some practical issues concerning MV distribution networks\\n\\n# 1.4.1 Overhead networks\\n\\nWeather conditions such as wind may bring overhead wires into contact and cause phase to phase short-circuits. Over voltages due to lightning strokes may generate flash-over across ceramic or glass insulators and cause phase to earth faults. Temporary contacts of vegetation such as trees with live overhead conductors may also generate phase to earth faults.\\n\\nMost of these faults are temporary. They disappear naturally with the interruption of the voltage. This means that the supply can be restored after a short delay following the tripping. This delay is usually named \"dead time\".\\n\\nHence the sequence of fault clearing and voltage restoration in an overhead network is as follows:\\n\\n- Fault detection by phase to phase or phase to earth protection\\n- Circuit breaker opening, the faulty overhead line is de-energized\\n- Dead time\\n- Circuit breaker reclosing. Following the reclosing two situations are possible:\\n- The fault has been cleared by the interruption of the voltage, the reclosing is successful\\n- The line is still faulty, a new tripping is initiated followed again by a reclosing sequence.\\n- Several sequences of tripping-reclosing may be activated depending on the rules of operation of the network adopted by the utility\\n- If after the execution of the preselected number of reclosing sequences the fault is still present, the circuit breaker is automatically locked and consequently the faulty part of the network remains out of service until the fault is localized and eliminated.\\n\\nAs such, it is possible to improve significantly the service continuity of overhead networks by using automatic reclosing facilities. Generally a reclosing circuit breaker is associated to each overhead line.\\n\\nThe use of centralized remote control and monitoring based on SCADA (Supervisory Control And Data Acquisition) systems and recent developments in digital communication technology is increasingly common in countries where the complexity associated with highly interconnected networks justifies the investment required.\\n\\n# 1.4.2 Underground networks\\n\\nCable Faults on underground MV cables may have several causes such as:\\n\\n- Poor quality of cable laying, absence of mechanical protection\\n- Bad quality of cable terminations confection\\n- Damages caused by excavators or tools such as pneumatic drills\\n- Over voltages generated by lightning strokes occurring on overhead line connected to underground cables. The over voltages can be amplified at the levels of the junctions between overhead lines and underground cables causing the destruction of the cable terminations. Lightning arresters are often installed at these locations to limit the risks of damages.\\n\\nThe experience shows that the rate of fault occurring on underground cables is lower than the one registered for overhead lines. But faults on underground cables are invariably permanent and take longer time to locate and repair.\\n\\nA loop architecture (see Fig. B10) correctly instrumented with fault detectors and motorized load break switches allow within a short period of time to identify a faulty cable, to disconnect it and to restore the supply to the whole substations included in the loop.\\n\\nThese procedures of faults detection, cables disconnection and supply restoration can be automatically performed in less than one minute by dedicated functions commonly integrated in remote control and monitoring systems of MV networks.\\n\\n# 1.4.3 Remote control and monitoring for MV networks (see Fig. B7)\\n\\nRemote control and monitoring of MV feeders make it possible to reduce loss of supply resulting from cable faults by supporting fast and effective loop reconfiguration. This facility relies on motorized switches associated with fault detectors on a number of substations in the loop and controlled by remote control units. All stations containing this equipment can have their supply restored remotely, whereas other stations will require additional manual operations.\\n\\nElectrical installation guide 2018 © Schneider Electric - all rights reserved'), Document(metadata={'file_size': 1031804, 'last_modified_at': '2025-02-08T12:34:21', 'file_path': 'Schneider_2018_small.pdf', 'file_name': 'Schneider_2018_small.pdf', 'external_file_id': 'Schneider_2018_small.pdf', 'file_id': 'e95aa0e4-a724-4fb7-9657-836519ab515d', 'pipeline_file_id': '6e8f09cb-3bdb-4312-aac2-9536435be726', 'pipeline_id': 'd42e94f1-972d-4b7d-99ec-5af1d540c623', 'page_label': 1, 'start_page_index': 0, 'start_page_label': 1, 'end_page_index': 0, 'end_page_label': 1, 'document_id': '1a37c32a2d258cae41793ceb72ed2d2e95d4332d81f73d6fbc', 'start_char_idx': 0, 'end_char_idx': 2485}, page_content='# A - General rules of electrical installation design\\n\\n# 3 Installed power loads - Characteristics\\n\\n|Type of lamp|Lamp power (W)|Current at 230 V (A)|\\n|---|---|---|\\n|Separated ballast lamp|10|0.080|\\n| |18|0.110|\\n| |26|0.150|\\n|Integrated ballast lamp|8|0.075|\\n| |11|0.095|\\n| |16|0.125|\\n| |21|0.170|\\n\\nFig. A7 Current demands and power consumption of compact fluorescent lamps (at 230 V-50 Hz)\\n\\n# 3.4 Discharge lamps\\n\\nSee also chapter N §4 \"Lighting circuits\". The power in watts indicated on the tube of a discharge lamp does not include the power dissipated in the ballast. Fig. A8 gives the current taken by a complete unit, including all associated ancillary equipment. These lamps depend on the luminous electrical discharge through a gas or vapour of a metallic compound, which is contained in a hermetically-sealed transparent envelope at a pre-determined pressure. These lamps have a long start-up time, during which the current Ia is greater than the nominal current In. Power and current demands are given for different types of lamp (typical average values which may differ slightly from one manufacturer to another).\\n\\n|Type of lamp|Power demand (W)|Current In(A)|PF not corrected|PF corrected|x In|Starting Period (mins)|Luminous efficiency (lumens per watt)|Average timelife of lamp (h)|\\n|---|---|---|---|---|---|---|---|---|\\n|High-pressure sodium vapour lamps|50|60|0.76|0.3|1.4 to 1.6|4 to 6|80 to 120|9000|\\n| |70|80|1|0.45| | | |b Outdoor spaces|\\n| |100|115|1.2|0.65| | | |b Public lighting|\\n| |150|168|1.8|0.85| | | | |\\n| |250|274|3|1.4| | | | |\\n| |400|431|4.4|2.2| | | | |\\n| |1000|1055|10.45|4.9| | | | |\\n|Low-pressure sodium vapour lamps|26|34.5|0.45|0.17|1.1 to 1.3|7 to 15|100 to 200|8000 to|\\n| |36|46.5| |0.22| | | |12000|\\n| |66|80.5| |0.39| | | |b Security lighting, railway platforms|\\n| |91|105.5| |0.49| | | |b Platform, storage areas|\\n| |131|154| |0.69| | | | |\\n|Mercury vapour + metal halide (also called metal-iodide)|70|80.5|1|0.40|1.7|3 to 5|70 to 90|6000|\\n| |150|172|1.80|0.88| | | |6000|\\n| |250|276|2.10|1.35| | | |6000|\\n| |400|425|3.40|2.15| | | |6000|\\n| |1000|1046|8.25|5.30| | | |6000|\\n| |2000|2092|2052|16.5|8.60|10.50|6| |\\n|Mercury vapour + fluorescent substance (fluorescent bulb)|50|57|0.6|0.30|1.7 to 2|3 to 6|40 to 60|8000 to|\\n| |80|90|0.8|0.45| | | |12000|\\n| |125|141|1.15|0.70| | | | |\\n| |250|268|2.15|1.35| | | |b Outdoor lighting|\\n| |400|421|3.25|2.15| | | |b Low light output [a]|\\n| |700|731|5.4|3.85| | | | |\\n| |1000|1046|8.25|5.30| | | | |\\n|'), Document(metadata={'file_size': 1031804, 'last_modified_at': '2025-02-08T12:34:21', 'file_path': 'Schneider_2018_small.pdf', 'file_name': 'Schneider_2018_small.pdf', 'external_file_id': 'Schneider_2018_small.pdf', 'file_id': 'e95aa0e4-a724-4fb7-9657-836519ab515d', 'pipeline_file_id': '6e8f09cb-3bdb-4312-aac2-9536435be726', 'pipeline_id': 'd42e94f1-972d-4b7d-99ec-5af1d540c623', 'page_label': 1, 'start_page_index': 0, 'start_page_label': 1, 'end_page_index': 0, 'end_page_label': 1, 'document_id': '1a37c32a2d258cae41793ceb72ed2d2e95d4332d81f73d6fbc', 'start_char_idx': 2111, 'end_char_idx': 3135}, page_content='|6000|\\n| |2000|2092|2052|16.5|8.60|10.50|6| |\\n|Mercury vapour + fluorescent substance (fluorescent bulb)|50|57|0.6|0.30|1.7 to 2|3 to 6|40 to 60|8000 to|\\n| |80|90|0.8|0.45| | | |12000|\\n| |125|141|1.15|0.70| | | | |\\n| |250|268|2.15|1.35| | | |b Outdoor lighting|\\n| |400|421|3.25|2.15| | | |b Low light output [a]|\\n| |700|731|5.4|3.85| | | | |\\n| |1000|1046|8.25|5.30| | | | |\\n| |2000|2140|2080|15|11|6.1| | |\\n\\n[a] Replaced by sodium vapour lamps.\\n\\nNote: these lamps are sensitive to voltage dips. They extinguish if the voltage falls to less than 50 % of their nominal voltage, and will not re-ignite before cooling for approximately 4 minutes.\\n\\nNote: Sodium vapour low-pressure lamps have a light-output efficiency which is superior to that of all other sources. However, use of these lamps is restricted by the fact that the yellow-orange colour emitted makes colour recognition practically impossible.\\n\\nFig. A8 Current demands of discharge lamps\\n\\nElectrical installation guide 2018 © Schneider Electric - all rights reserved')], 'answer': 'Internal MV distribution describes a system where multiple secondary substations are supplied by a MV distribution circuit within the installation. This is typically used when several MV/LV transformers are needed, and all are located within the main substation.'}\n"
     ]
    }
   ],
   "source": [
    "# Run the coroutine and get the response\n",
    "response = conversational_rag_chain.invoke(\n",
    "    {\"input\": \"what is Internal MV distribution?\"},\n",
    "    config={\n",
    "        \"configurable\": {\"session_id\": session_id_1}\n",
    "    }\n",
    ")\n",
    "\n",
    "# Print the response\n",
    "print(response)\n",
    "\n"
   ]
  },
  {
   "cell_type": "code",
   "execution_count": null,
   "metadata": {},
   "outputs": [],
   "source": [
    "type(response)"
   ]
  },
  {
   "cell_type": "code",
   "execution_count": 33,
   "metadata": {},
   "outputs": [
    {
     "data": {
      "text/plain": [
       "'Internal MV distribution describes a system where multiple secondary substations are supplied by a MV distribution circuit within the installation. This is typically used when several MV/LV transformers are needed, and all are located within the main substation.'"
      ]
     },
     "execution_count": 33,
     "metadata": {},
     "output_type": "execute_result"
    }
   ],
   "source": [
    "response[\"answer\"]"
   ]
  },
  {
   "cell_type": "code",
   "execution_count": null,
   "metadata": {},
   "outputs": [],
   "source": [
    "conversational_rag_chain.invoke(\n",
    "    {\"input\": \"Why it depends?\"},\n",
    "    config={\"configurable\": {\"session_id\": session_id_1}},\n",
    ")[\"answer\"]"
   ]
  },
  {
   "cell_type": "code",
   "execution_count": null,
   "metadata": {},
   "outputs": [],
   "source": [
    "conversational_rag_chain.invoke(\n",
    "    {\"input\": \"What are common ways of doing it?\"},\n",
    "    config={\"configurable\": {\"session_id\": session_id_1}},\n",
    ")"
   ]
  },
  {
   "cell_type": "markdown",
   "metadata": {},
   "source": [
    "# Streaming final outputs\n",
    "\n",
    "\n",
    "The .stream method will by default stream each key in a sequence."
   ]
  },
  {
   "cell_type": "code",
   "execution_count": null,
   "metadata": {},
   "outputs": [],
   "source": [
    "stream= conversational_rag_chain.stream(\n",
    "    {\"input\": \"What are common ways of doing it?\"},\n",
    "    config={\"configurable\": {\"session_id\": session_id_1}},\n",
    ")"
   ]
  },
  {
   "cell_type": "code",
   "execution_count": null,
   "metadata": {},
   "outputs": [],
   "source": [
    "for chunk in stream:\n",
    "    print(chunk)"
   ]
  },
  {
   "cell_type": "markdown",
   "metadata": {},
   "source": [
    "# Steaming only Answers\n",
    "\n",
    "We are free to process chunks as they are streamed out. If we just want to stream the answer tokens, for example, we can select chunks with the corresponding key:"
   ]
  },
  {
   "cell_type": "code",
   "execution_count": null,
   "metadata": {},
   "outputs": [],
   "source": [
    "stream= conversational_rag_chain.stream(\n",
    "    {\"input\": \"What are common ways of doing it?\"},\n",
    "    config={\"configurable\": {\"session_id\": session_id_1}},\n",
    ")"
   ]
  },
  {
   "cell_type": "markdown",
   "metadata": {},
   "source": [
    "Stream with a character"
   ]
  },
  {
   "cell_type": "code",
   "execution_count": null,
   "metadata": {},
   "outputs": [],
   "source": [
    "for chunk in stream:\n",
    "    if answer_chunk := chunk.get(\"answer\"):\n",
    "        print(f\"{answer_chunk}|\", end=\"\")"
   ]
  },
  {
   "cell_type": "markdown",
   "metadata": {},
   "source": [
    "Stream without a character"
   ]
  },
  {
   "cell_type": "code",
   "execution_count": null,
   "metadata": {},
   "outputs": [],
   "source": [
    "stream= conversational_rag_chain.stream(\n",
    "    {\"input\": \"What are common ways of doing it?\"},\n",
    "    config={\"configurable\": {\"session_id\": session_id_1}},\n",
    ")"
   ]
  },
  {
   "cell_type": "code",
   "execution_count": null,
   "metadata": {},
   "outputs": [],
   "source": [
    "for chunk in stream:\n",
    "    if answer_chunk := chunk.get(\"answer\"):\n",
    "        print(f\"{answer_chunk}\", end=\"\")"
   ]
  },
  {
   "cell_type": "markdown",
   "metadata": {},
   "source": [
    "### Stream the answer Using a .pick method\n",
    " https://python.langchain.com/v0.2/api_reference/core/runnables/langchain_core.runnables.base.Runnable.html#langchain_core.runnables.base.Runnable.pick\n",
    "More simply, we can use the .pick method to select only the desired key:\n",
    "\n"
   ]
  },
  {
   "cell_type": "code",
   "execution_count": null,
   "metadata": {},
   "outputs": [],
   "source": [
    "stream= conversational_rag_chain.stream(\n",
    "    {\"input\": \"What are common ways of doing it?\"},\n",
    "    config={\"configurable\": {\"session_id\": session_id_1}},\n",
    ")"
   ]
  },
  {
   "cell_type": "code",
   "execution_count": null,
   "metadata": {},
   "outputs": [],
   "source": [
    "pick_answer_chain = conversational_rag_chain.pick(\"answer\")\n"
   ]
  },
  {
   "cell_type": "code",
   "execution_count": null,
   "metadata": {},
   "outputs": [],
   "source": [
    "stream= pick_answer_chain.stream(\n",
    "    {\"input\": \"What are common ways of doing it?\"},\n",
    "    config={\"configurable\": {\"session_id\": session_id_1}},\n",
    ")"
   ]
  },
  {
   "cell_type": "code",
   "execution_count": null,
   "metadata": {},
   "outputs": [],
   "source": [
    "for chunk in stream:\n",
    "    print(f\"{chunk}\", end=\"\")"
   ]
  },
  {
   "cell_type": "code",
   "execution_count": null,
   "metadata": {},
   "outputs": [],
   "source": []
  },
  {
   "cell_type": "code",
   "execution_count": null,
   "metadata": {},
   "outputs": [],
   "source": []
  },
  {
   "cell_type": "code",
   "execution_count": null,
   "metadata": {},
   "outputs": [],
   "source": []
  },
  {
   "cell_type": "code",
   "execution_count": null,
   "metadata": {},
   "outputs": [],
   "source": []
  },
  {
   "cell_type": "code",
   "execution_count": null,
   "metadata": {},
   "outputs": [],
   "source": []
  },
  {
   "cell_type": "code",
   "execution_count": null,
   "metadata": {},
   "outputs": [],
   "source": []
  }
 ],
 "metadata": {
  "kernelspec": {
   "display_name": "schneider-chatbot-uVkHECrX-py3.13",
   "language": "python",
   "name": "python3"
  },
  "language_info": {
   "codemirror_mode": {
    "name": "ipython",
    "version": 3
   },
   "file_extension": ".py",
   "mimetype": "text/x-python",
   "name": "python",
   "nbconvert_exporter": "python",
   "pygments_lexer": "ipython3",
   "version": "3.13.1"
  }
 },
 "nbformat": 4,
 "nbformat_minor": 2
}
