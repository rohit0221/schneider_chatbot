{
 "cells": [
  {
   "cell_type": "code",
   "execution_count": 3,
   "metadata": {},
   "outputs": [],
   "source": [
    "import streamlit_authenticator as stauth\n"
   ]
  },
  {
   "cell_type": "code",
   "execution_count": 17,
   "metadata": {},
   "outputs": [
    {
     "name": "stdout",
     "output_type": "stream",
     "text": [
      "Name: streamlit-authenticator\n",
      "Version: 0.4.1\n",
      "Summary: A secure authentication module to manage user access in a Streamlit application.\n",
      "Home-page: https://github.com/mkhorasani/Streamlit-Authenticator\n",
      "Author: Mohammad Khorasani\n",
      "Author-email: khorasani.mohammad@gmail.com\n",
      "License: \n",
      "Location: C:\\Users\\neural_ninja\\AppData\\Local\\pypoetry\\Cache\\virtualenvs\\schneider-chatbot-uVkHECrX-py3.12\\Lib\\site-packages\n",
      "Requires: bcrypt, captcha, extra-streamlit-components, PyJWT, PyYAML, streamlit\n",
      "Required-by: \n"
     ]
    }
   ],
   "source": [
    "!pip show streamlit-authenticator\n"
   ]
  },
  {
   "cell_type": "code",
   "execution_count": 18,
   "metadata": {},
   "outputs": [],
   "source": [
    "from streamlit_authenticator.utilities.hasher import Hasher\n"
   ]
  },
  {
   "cell_type": "code",
   "execution_count": 19,
   "metadata": {},
   "outputs": [
    {
     "ename": "TypeError",
     "evalue": "Hasher.__init__() missing 1 required positional argument: 'passwords'",
     "output_type": "error",
     "traceback": [
      "\u001b[1;31m---------------------------------------------------------------------------\u001b[0m",
      "\u001b[1;31mTypeError\u001b[0m                                 Traceback (most recent call last)",
      "Cell \u001b[1;32mIn[19], line 2\u001b[0m\n\u001b[0;32m      1\u001b[0m \u001b[38;5;66;03m#create hashed password\u001b[39;00m\n\u001b[1;32m----> 2\u001b[0m hasher \u001b[38;5;241m=\u001b[39m \u001b[43mHasher\u001b[49m\u001b[43m(\u001b[49m\u001b[43m)\u001b[49m\n\u001b[0;32m      3\u001b[0m hashed_password \u001b[38;5;241m=\u001b[39m hasher\u001b[38;5;241m.\u001b[39mhash_password(\u001b[38;5;124m\"\u001b[39m\u001b[38;5;124mpassword\u001b[39m\u001b[38;5;124m\"\u001b[39m)\n\u001b[0;32m      4\u001b[0m \u001b[38;5;28mprint\u001b[39m(hashed_password)\n",
      "\u001b[1;31mTypeError\u001b[0m: Hasher.__init__() missing 1 required positional argument: 'passwords'"
     ]
    }
   ],
   "source": [
    "#create hashed password\n",
    "hasher = Hasher()\n",
    "hashed_password = hasher.hash_password(\"password\")\n",
    "print(hashed_password)\n",
    "\n"
   ]
  },
  {
   "cell_type": "code",
   "execution_count": 20,
   "metadata": {},
   "outputs": [
    {
     "ename": "AttributeError",
     "evalue": "'Hasher' object has no attribute 'hash_password'",
     "output_type": "error",
     "traceback": [
      "\u001b[1;31m---------------------------------------------------------------------------\u001b[0m",
      "\u001b[1;31mAttributeError\u001b[0m                            Traceback (most recent call last)",
      "Cell \u001b[1;32mIn[20], line 4\u001b[0m\n\u001b[0;32m      2\u001b[0m passwords \u001b[38;5;241m=\u001b[39m [\u001b[38;5;124m\"\u001b[39m\u001b[38;5;124mpassword\u001b[39m\u001b[38;5;124m\"\u001b[39m]  \u001b[38;5;66;03m# Example list of passwords\u001b[39;00m\n\u001b[0;32m      3\u001b[0m hasher \u001b[38;5;241m=\u001b[39m Hasher(passwords)\n\u001b[1;32m----> 4\u001b[0m hashed_password \u001b[38;5;241m=\u001b[39m \u001b[43mhasher\u001b[49m\u001b[38;5;241;43m.\u001b[39;49m\u001b[43mhash_password\u001b[49m(\u001b[38;5;124m\"\u001b[39m\u001b[38;5;124mpassword\u001b[39m\u001b[38;5;124m\"\u001b[39m)\n\u001b[0;32m      5\u001b[0m \u001b[38;5;28mprint\u001b[39m(hashed_password)\n",
      "\u001b[1;31mAttributeError\u001b[0m: 'Hasher' object has no attribute 'hash_password'"
     ]
    }
   ],
   "source": [
    "#create hashed password\n",
    "passwords = [\"password\"]  # Example list of passwords\n",
    "hasher = Hasher(passwords)\n",
    "hashed_password = hasher.hash_password(\"password\")\n",
    "print(hashed_password)"
   ]
  },
  {
   "cell_type": "code",
   "execution_count": 22,
   "metadata": {},
   "outputs": [
    {
     "name": "stdout",
     "output_type": "stream",
     "text": [
      "5e884898da28047151d0e56f8dc6292773603d0d6aabbdd62a11ef721d1542d8\n"
     ]
    }
   ],
   "source": [
    "class Hasher:\n",
    "    def __init__(self, passwords):\n",
    "        self.passwords = passwords\n",
    "\n",
    "    def hash_password(self, password):\n",
    "        # Example hashing logic\n",
    "        import hashlib\n",
    "        return hashlib.sha256(password.encode()).hexdigest()\n",
    "\n",
    "# Create hashed password\n",
    "passwords = [\"bexley@123\"]  # Example list of passwords\n",
    "hasher = Hasher(passwords)\n",
    "hashed_password = hasher.hash_password(\"password\")\n",
    "print(hashed_password)"
   ]
  },
  {
   "cell_type": "code",
   "execution_count": 23,
   "metadata": {},
   "outputs": [
    {
     "ename": "AttributeError",
     "evalue": "'Hasher' object has no attribute 'generate'",
     "output_type": "error",
     "traceback": [
      "\u001b[1;31m---------------------------------------------------------------------------\u001b[0m",
      "\u001b[1;31mAttributeError\u001b[0m                            Traceback (most recent call last)",
      "Cell \u001b[1;32mIn[23], line 10\u001b[0m\n\u001b[0;32m      7\u001b[0m hasher \u001b[38;5;241m=\u001b[39m stauth\u001b[38;5;241m.\u001b[39mHasher(passwords)\n\u001b[0;32m      9\u001b[0m \u001b[38;5;66;03m# Generate hashed passwords\u001b[39;00m\n\u001b[1;32m---> 10\u001b[0m hashed_passwords \u001b[38;5;241m=\u001b[39m \u001b[43mhasher\u001b[49m\u001b[38;5;241;43m.\u001b[39;49m\u001b[43mgenerate\u001b[49m()\n\u001b[0;32m     12\u001b[0m \u001b[38;5;66;03m# Output the hashed passwords\u001b[39;00m\n\u001b[0;32m     13\u001b[0m \u001b[38;5;28mprint\u001b[39m(hashed_passwords)\n",
      "\u001b[1;31mAttributeError\u001b[0m: 'Hasher' object has no attribute 'generate'"
     ]
    }
   ],
   "source": [
    "import streamlit_authenticator as stauth\n",
    "\n",
    "# List of plaintext passwords\n",
    "passwords = ['your_plaintext_password']\n",
    "\n",
    "# Create a Hasher instance\n",
    "hasher = stauth.Hasher(passwords)\n",
    "\n",
    "# Generate hashed passwords\n",
    "hashed_passwords = hasher.generate()\n",
    "\n",
    "# Output the hashed passwords\n",
    "print(hashed_passwords)\n"
   ]
  },
  {
   "cell_type": "code",
   "execution_count": 24,
   "metadata": {},
   "outputs": [
    {
     "ename": "AttributeError",
     "evalue": "'Hasher' object has no attribute 'generate'",
     "output_type": "error",
     "traceback": [
      "\u001b[1;31m---------------------------------------------------------------------------\u001b[0m",
      "\u001b[1;31mAttributeError\u001b[0m                            Traceback (most recent call last)",
      "Cell \u001b[1;32mIn[24], line 7\u001b[0m\n\u001b[0;32m      4\u001b[0m passwords \u001b[38;5;241m=\u001b[39m [\u001b[38;5;124m\"\u001b[39m\u001b[38;5;124mbexley@123\u001b[39m\u001b[38;5;124m\"\u001b[39m]  \u001b[38;5;66;03m# Replace with your actual password\u001b[39;00m\n\u001b[0;32m      6\u001b[0m \u001b[38;5;66;03m# Create a Hasher instance\u001b[39;00m\n\u001b[1;32m----> 7\u001b[0m hashed_passwords \u001b[38;5;241m=\u001b[39m \u001b[43mstauth\u001b[49m\u001b[38;5;241;43m.\u001b[39;49m\u001b[43mHasher\u001b[49m\u001b[43m(\u001b[49m\u001b[43mpasswords\u001b[49m\u001b[43m)\u001b[49m\u001b[38;5;241;43m.\u001b[39;49m\u001b[43mgenerate\u001b[49m()\n\u001b[0;32m      9\u001b[0m \u001b[38;5;66;03m# Print the bcrypt hashed password\u001b[39;00m\n\u001b[0;32m     10\u001b[0m \u001b[38;5;28mprint\u001b[39m(hashed_passwords)\n",
      "\u001b[1;31mAttributeError\u001b[0m: 'Hasher' object has no attribute 'generate'"
     ]
    }
   ],
   "source": [
    "import streamlit_authenticator as stauth\n",
    "\n",
    "# List of plaintext passwords\n",
    "passwords = [\"bexley@123\"]  # Replace with your actual password\n",
    "\n",
    "# Create a Hasher instance\n",
    "hashed_passwords = stauth.Hasher(passwords).generate()\n",
    "\n",
    "# Print the bcrypt hashed password\n",
    "print(hashed_passwords)\n"
   ]
  },
  {
   "cell_type": "code",
   "execution_count": 2,
   "metadata": {},
   "outputs": [
    {
     "name": "stderr",
     "output_type": "stream",
     "text": [
      "2025-02-11 13:52:56.082 WARNING streamlit.runtime.scriptrunner_utils.script_run_context: Thread 'MainThread': missing ScriptRunContext! This warning can be ignored when running in bare mode.\n",
      "2025-02-11 13:52:56.094 WARNING streamlit.runtime.scriptrunner_utils.script_run_context: Thread 'MainThread': missing ScriptRunContext! This warning can be ignored when running in bare mode.\n",
      "2025-02-11 13:52:56.105 WARNING streamlit.runtime.scriptrunner_utils.script_run_context: Thread 'MainThread': missing ScriptRunContext! This warning can be ignored when running in bare mode.\n",
      "2025-02-11 13:52:56.118 WARNING streamlit.runtime.scriptrunner_utils.script_run_context: Thread 'MainThread': missing ScriptRunContext! This warning can be ignored when running in bare mode.\n"
     ]
    },
    {
     "ename": "AttributeError",
     "evalue": "'Hasher' object has no attribute 'generate'",
     "output_type": "error",
     "traceback": [
      "\u001b[1;31m---------------------------------------------------------------------------\u001b[0m",
      "\u001b[1;31mAttributeError\u001b[0m                            Traceback (most recent call last)",
      "Cell \u001b[1;32mIn[2], line 3\u001b[0m\n\u001b[0;32m      1\u001b[0m \u001b[38;5;28;01mimport\u001b[39;00m\u001b[38;5;250m \u001b[39m\u001b[38;5;21;01mstreamlit_authenticator\u001b[39;00m\u001b[38;5;250m \u001b[39m\u001b[38;5;28;01mas\u001b[39;00m\u001b[38;5;250m \u001b[39m\u001b[38;5;21;01mstauth\u001b[39;00m\n\u001b[1;32m----> 3\u001b[0m hashed_passwords \u001b[38;5;241m=\u001b[39m \u001b[43mstauth\u001b[49m\u001b[38;5;241;43m.\u001b[39;49m\u001b[43mHasher\u001b[49m\u001b[43m(\u001b[49m\u001b[43m[\u001b[49m\u001b[38;5;124;43m'\u001b[39;49m\u001b[38;5;124;43mabc\u001b[39;49m\u001b[38;5;124;43m'\u001b[39;49m\u001b[43m,\u001b[49m\u001b[43m \u001b[49m\u001b[38;5;124;43m'\u001b[39;49m\u001b[38;5;124;43mdef\u001b[39;49m\u001b[38;5;124;43m'\u001b[39;49m\u001b[43m]\u001b[49m\u001b[43m)\u001b[49m\u001b[38;5;241;43m.\u001b[39;49m\u001b[43mgenerate\u001b[49m()\n",
      "\u001b[1;31mAttributeError\u001b[0m: 'Hasher' object has no attribute 'generate'"
     ]
    }
   ],
   "source": [
    "import streamlit_authenticator as stauth\n",
    "\n",
    "hashed_passwords = stauth.Hasher(['abc', 'def']).generate()\n"
   ]
  },
  {
   "cell_type": "code",
   "execution_count": null,
   "metadata": {},
   "outputs": [],
   "source": []
  },
  {
   "cell_type": "code",
   "execution_count": 1,
   "metadata": {},
   "outputs": [
    {
     "name": "stderr",
     "output_type": "stream",
     "text": [
      "2025-02-11 14:38:54.845 WARNING streamlit.runtime.scriptrunner_utils.script_run_context: Thread 'MainThread': missing ScriptRunContext! This warning can be ignored when running in bare mode.\n",
      "2025-02-11 14:38:54.853 WARNING streamlit.runtime.scriptrunner_utils.script_run_context: Thread 'MainThread': missing ScriptRunContext! This warning can be ignored when running in bare mode.\n",
      "2025-02-11 14:38:54.857 WARNING streamlit.runtime.scriptrunner_utils.script_run_context: Thread 'MainThread': missing ScriptRunContext! This warning can be ignored when running in bare mode.\n",
      "2025-02-11 14:38:54.864 WARNING streamlit.runtime.scriptrunner_utils.script_run_context: Thread 'MainThread': missing ScriptRunContext! This warning can be ignored when running in bare mode.\n"
     ]
    },
    {
     "ename": "AttributeError",
     "evalue": "'Hasher' object has no attribute 'generate'",
     "output_type": "error",
     "traceback": [
      "\u001b[1;31m---------------------------------------------------------------------------\u001b[0m",
      "\u001b[1;31mAttributeError\u001b[0m                            Traceback (most recent call last)",
      "Cell \u001b[1;32mIn[1], line 3\u001b[0m\n\u001b[0;32m      1\u001b[0m \u001b[38;5;28;01mimport\u001b[39;00m\u001b[38;5;250m \u001b[39m\u001b[38;5;21;01mstreamlit_authenticator\u001b[39;00m\u001b[38;5;250m \u001b[39m\u001b[38;5;28;01mas\u001b[39;00m\u001b[38;5;250m \u001b[39m\u001b[38;5;21;01mstauth\u001b[39;00m\n\u001b[1;32m----> 3\u001b[0m hashed_passwords \u001b[38;5;241m=\u001b[39m \u001b[43mstauth\u001b[49m\u001b[38;5;241;43m.\u001b[39;49m\u001b[43mHasher\u001b[49m\u001b[43m(\u001b[49m\u001b[43m[\u001b[49m\u001b[38;5;124;43m\"\u001b[39;49m\u001b[38;5;124;43mbexley@123\u001b[39;49m\u001b[38;5;124;43m\"\u001b[39;49m\u001b[43m]\u001b[49m\u001b[43m)\u001b[49m\u001b[38;5;241;43m.\u001b[39;49m\u001b[43mgenerate\u001b[49m()\n\u001b[0;32m      4\u001b[0m \u001b[38;5;28mprint\u001b[39m(hashed_passwords)\n",
      "\u001b[1;31mAttributeError\u001b[0m: 'Hasher' object has no attribute 'generate'"
     ]
    }
   ],
   "source": [
    "import streamlit_authenticator as stauth\n",
    "\n",
    "hashed_passwords = stauth.Hasher([\"bexley@123\"]).generate()\n",
    "print(hashed_passwords)\n"
   ]
  },
  {
   "cell_type": "code",
   "execution_count": 2,
   "metadata": {},
   "outputs": [
    {
     "ename": "AttributeError",
     "evalue": "'Hasher' object has no attribute 'generate'",
     "output_type": "error",
     "traceback": [
      "\u001b[1;31m---------------------------------------------------------------------------\u001b[0m",
      "\u001b[1;31mAttributeError\u001b[0m                            Traceback (most recent call last)",
      "Cell \u001b[1;32mIn[2], line 3\u001b[0m\n\u001b[0;32m      1\u001b[0m \u001b[38;5;28;01mimport\u001b[39;00m\u001b[38;5;250m \u001b[39m\u001b[38;5;21;01mstreamlit_authenticator\u001b[39;00m\u001b[38;5;250m \u001b[39m\u001b[38;5;28;01mas\u001b[39;00m\u001b[38;5;250m \u001b[39m\u001b[38;5;21;01mstauth\u001b[39;00m\n\u001b[1;32m----> 3\u001b[0m hashed_password \u001b[38;5;241m=\u001b[39m \u001b[43mstauth\u001b[49m\u001b[38;5;241;43m.\u001b[39;49m\u001b[43mHasher\u001b[49m\u001b[43m(\u001b[49m\u001b[43m[\u001b[49m\u001b[38;5;124;43m\"\u001b[39;49m\u001b[38;5;124;43mbexley@123\u001b[39;49m\u001b[38;5;124;43m\"\u001b[39;49m\u001b[43m]\u001b[49m\u001b[43m)\u001b[49m\u001b[38;5;241;43m.\u001b[39;49m\u001b[43mgenerate\u001b[49m()\n\u001b[0;32m      4\u001b[0m \u001b[38;5;28mprint\u001b[39m(hashed_password)  \u001b[38;5;66;03m# Copy this value\u001b[39;00m\n",
      "\u001b[1;31mAttributeError\u001b[0m: 'Hasher' object has no attribute 'generate'"
     ]
    }
   ],
   "source": [
    "import streamlit_authenticator as stauth\n",
    "\n",
    "hashed_password = stauth.Hasher([\"bexley@123\"]).generate()\n",
    "print(hashed_password)  # Copy this value\n"
   ]
  },
  {
   "cell_type": "code",
   "execution_count": null,
   "metadata": {},
   "outputs": [],
   "source": []
  }
 ],
 "metadata": {
  "kernelspec": {
   "display_name": "schneider-chatbot-uVkHECrX-py3.12",
   "language": "python",
   "name": "python3"
  },
  "language_info": {
   "codemirror_mode": {
    "name": "ipython",
    "version": 3
   },
   "file_extension": ".py",
   "mimetype": "text/x-python",
   "name": "python",
   "nbconvert_exporter": "python",
   "pygments_lexer": "ipython3",
   "version": "3.12.2"
  }
 },
 "nbformat": 4,
 "nbformat_minor": 2
}
